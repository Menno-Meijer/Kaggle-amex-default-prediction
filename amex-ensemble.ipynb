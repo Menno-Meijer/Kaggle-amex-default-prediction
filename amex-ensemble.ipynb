{
 "cells": [
  {
   "cell_type": "code",
   "execution_count": 1,
   "id": "213856c8",
   "metadata": {
    "_cell_guid": "b1076dfc-b9ad-4769-8c92-a6c4dae69d19",
    "_uuid": "8f2839f25d086af736a60e9eeb907d3b93b6e0e5",
    "execution": {
     "iopub.execute_input": "2022-08-23T21:16:43.062943Z",
     "iopub.status.busy": "2022-08-23T21:16:43.062176Z",
     "iopub.status.idle": "2022-08-23T21:16:43.073592Z",
     "shell.execute_reply": "2022-08-23T21:16:43.072574Z"
    },
    "papermill": {
     "duration": 0.022485,
     "end_time": "2022-08-23T21:16:43.076298",
     "exception": false,
     "start_time": "2022-08-23T21:16:43.053813",
     "status": "completed"
    },
    "tags": []
   },
   "outputs": [],
   "source": [
    "import numpy as np # linear algebra\n",
    "import pandas as pd # data processing, CSV file I/O (e.g. pd.read_csv)\n",
    "from tqdm import tqdm"
   ]
  },
  {
   "cell_type": "code",
   "execution_count": 2,
   "id": "7354081b",
   "metadata": {
    "execution": {
     "iopub.execute_input": "2022-08-23T21:16:43.088368Z",
     "iopub.status.busy": "2022-08-23T21:16:43.087945Z",
     "iopub.status.idle": "2022-08-23T21:16:43.096542Z",
     "shell.execute_reply": "2022-08-23T21:16:43.095540Z"
    },
    "papermill": {
     "duration": 0.016953,
     "end_time": "2022-08-23T21:16:43.098612",
     "exception": false,
     "start_time": "2022-08-23T21:16:43.081659",
     "status": "completed"
    },
    "tags": []
   },
   "outputs": [],
   "source": [
    "def amex_metric_numpy(y_true: np.array, y_pred: np.array) -> float:\n",
    "\n",
    "    # count of positives and negatives\n",
    "    n_pos = y_true.sum()\n",
    "    n_neg = y_true.shape[0] - n_pos\n",
    "\n",
    "    # sorting by descring prediction values\n",
    "    indices = np.argsort(y_pred)[::-1]\n",
    "    preds, target = y_pred[indices], y_true[indices]\n",
    "\n",
    "    # filter the top 4% by cumulative row weights\n",
    "    weight = 20.0 - target * 19.0\n",
    "    cum_norm_weight = (weight / weight.sum()).cumsum()\n",
    "    four_pct_filter = cum_norm_weight <= 0.04\n",
    "\n",
    "    # default rate captured at 4%\n",
    "    d = target[four_pct_filter].sum() / n_pos\n",
    "\n",
    "    # weighted gini coefficient\n",
    "    lorentz = (target / n_pos).cumsum()\n",
    "    gini = ((lorentz - cum_norm_weight) * weight).sum()\n",
    "\n",
    "    # max weighted gini coefficient\n",
    "    gini_max = 10 * n_neg * (1 - 19 / (n_pos + 20 * n_neg))\n",
    "\n",
    "    # normalized weighted gini coefficient\n",
    "    g = gini / gini_max\n",
    "\n",
    "    return 0.5 * (g + d)"
   ]
  },
  {
   "cell_type": "code",
   "execution_count": 3,
   "id": "e0588750",
   "metadata": {
    "execution": {
     "iopub.execute_input": "2022-08-23T21:16:43.110371Z",
     "iopub.status.busy": "2022-08-23T21:16:43.109947Z",
     "iopub.status.idle": "2022-08-23T21:16:45.867370Z",
     "shell.execute_reply": "2022-08-23T21:16:45.866147Z"
    },
    "papermill": {
     "duration": 2.766565,
     "end_time": "2022-08-23T21:16:45.870246",
     "exception": false,
     "start_time": "2022-08-23T21:16:43.103681",
     "status": "completed"
    },
    "tags": []
   },
   "outputs": [],
   "source": [
    "LGBM_dartV3_OOF = pd.read_csv(\"../input/amex-dataforensenmble/LGBM_DART-V3_data29_seed84_OOF.csv\")\n",
    "LGBM_dartV3_OOF = LGBM_dartV3_OOF.sort_values(\"customer_ID\")\n",
    "LGBM_dartV3_OOF = LGBM_dartV3_OOF.drop(columns=\"Unnamed: 0\").reset_index(drop=True)\n",
    "\n",
    "LGBM_dartV4_OOF = pd.read_csv(\"../input/amex-dataforensenmble/LGBM_DART-V4_data32_seed84_OOF.csv\")\n",
    "LGBM_dartV4_OOF = LGBM_dartV4_OOF.sort_values(\"customer_ID\")\n",
    "LGBM_dartV4_OOF = LGBM_dartV4_OOF.drop(columns=\"Unnamed: 0\").reset_index(drop=True)\n",
    "\n",
    "tabnet_V1_OOF = pd.read_csv(\"../input/amex-dataforensenmble/TABNET_V1_data29_seed84_OOF.csv\")\n",
    "tabnet_V1_OOF = tabnet_V1_OOF.sort_values(\"customer_ID\")\n",
    "tabnet_V1_OOF = tabnet_V1_OOF.drop(columns=\"Unnamed: 0\").reset_index(drop=True)\n",
    "\n",
    "xgboost_V10_OOF = pd.read_csv(\"../input/amex-dataforensenmble/xgboost_V10_data23_seed84_OOF.csv\")\n",
    "xgboost_V10_OOF = xgboost_V10_OOF.sort_values(\"customer_ID\")\n",
    "xgboost_V10_OOF = xgboost_V10_OOF.drop(columns=\"Unnamed: 0\").reset_index(drop=True)\n",
    "\n",
    "ANN_V2_OOF = pd.read_csv(\"../input/amex-dataforensenmble/ANN_V2_data29_seed84_OOF.csv\")\n",
    "ANN_V2_OOF = ANN_V2_OOF.sort_values(\"customer_ID\")\n",
    "ANN_V2_OOF = ANN_V2_OOF.drop(columns=\"Unnamed: 0\").reset_index(drop=True)\n",
    "\n",
    "LGBM_V25_OOF = pd.read_csv(\"../input/amex-dataforensenmble/lgbm_v25_datav20_OOF.csv\")\n",
    "LGBM_V25_OOF = LGBM_V25_OOF.sort_values(\"customer_ID\")\n",
    "LGBM_V25_OOF = LGBM_V25_OOF.drop(columns=\"Unnamed: 0\").reset_index(drop=True)"
   ]
  },
  {
   "cell_type": "code",
   "execution_count": 4,
   "id": "539d2988",
   "metadata": {
    "execution": {
     "iopub.execute_input": "2022-08-23T21:16:45.883796Z",
     "iopub.status.busy": "2022-08-23T21:16:45.883391Z",
     "iopub.status.idle": "2022-08-23T21:17:04.478075Z",
     "shell.execute_reply": "2022-08-23T21:17:04.476684Z"
    },
    "papermill": {
     "duration": 18.604528,
     "end_time": "2022-08-23T21:17:04.481064",
     "exception": false,
     "start_time": "2022-08-23T21:16:45.876536",
     "status": "completed"
    },
    "tags": []
   },
   "outputs": [],
   "source": [
    "true_y_df = pd.read_parquet(\"../input/amex-data-preparation/train_processed.parquet\")\n",
    "true_y_df = true_y_df[[\"customer_ID\",\"target\"]]\n",
    "true_y_df = true_y_df.sort_values(\"customer_ID\")"
   ]
  },
  {
   "cell_type": "code",
   "execution_count": 5,
   "id": "7572e958",
   "metadata": {
    "execution": {
     "iopub.execute_input": "2022-08-23T21:17:04.493402Z",
     "iopub.status.busy": "2022-08-23T21:17:04.492670Z",
     "iopub.status.idle": "2022-08-23T21:17:05.387708Z",
     "shell.execute_reply": "2022-08-23T21:17:05.386237Z"
    },
    "papermill": {
     "duration": 0.904433,
     "end_time": "2022-08-23T21:17:05.390792",
     "exception": false,
     "start_time": "2022-08-23T21:17:04.486359",
     "status": "completed"
    },
    "tags": []
   },
   "outputs": [
    {
     "name": "stdout",
     "output_type": "stream",
     "text": [
      "Amex scores models:\n",
      "LGBM_dartV3_OOF:0.7972244432729978\n",
      "LGBM_dartV4_OOF:0.7966134974634839\n",
      "tabnet_V1_OOF:0.7852546758090266\n",
      "xgboost_V10_OOF:0.7954647856555098\n",
      "ANN_V2_OOF:0.7877552113468742\n",
      "LGBM_V25_OOF:0.7944904215932194\n"
     ]
    }
   ],
   "source": [
    "OOF_dic = {\"LGBM_dartV3_OOF\":LGBM_dartV3_OOF,\"LGBM_dartV4_OOF\":LGBM_dartV4_OOF,\n",
    "            \"tabnet_V1_OOF\":tabnet_V1_OOF,\"xgboost_V10_OOF\":xgboost_V10_OOF,\n",
    "          \"ANN_V2_OOF\":ANN_V2_OOF,\"LGBM_V25_OOF\":LGBM_V25_OOF,\n",
    "          }\n",
    "print(\"Amex scores models:\")\n",
    "for OOF in OOF_dic:\n",
    "    amex_score =amex_metric_numpy(true_y_df[\"target\"],OOF_dic[OOF][\"prediction\"])\n",
    "    print(f\"{OOF}:{amex_score}\")"
   ]
  },
  {
   "cell_type": "code",
   "execution_count": 6,
   "id": "897f4688",
   "metadata": {
    "execution": {
     "iopub.execute_input": "2022-08-23T21:17:05.403904Z",
     "iopub.status.busy": "2022-08-23T21:17:05.402995Z",
     "iopub.status.idle": "2022-08-23T21:17:05.419802Z",
     "shell.execute_reply": "2022-08-23T21:17:05.418560Z"
    },
    "papermill": {
     "duration": 0.025896,
     "end_time": "2022-08-23T21:17:05.422179",
     "exception": false,
     "start_time": "2022-08-23T21:17:05.396283",
     "status": "completed"
    },
    "tags": []
   },
   "outputs": [
    {
     "data": {
      "text/html": [
       "<div>\n",
       "<style scoped>\n",
       "    .dataframe tbody tr th:only-of-type {\n",
       "        vertical-align: middle;\n",
       "    }\n",
       "\n",
       "    .dataframe tbody tr th {\n",
       "        vertical-align: top;\n",
       "    }\n",
       "\n",
       "    .dataframe thead th {\n",
       "        text-align: right;\n",
       "    }\n",
       "</style>\n",
       "<table border=\"1\" class=\"dataframe\">\n",
       "  <thead>\n",
       "    <tr style=\"text-align: right;\">\n",
       "      <th></th>\n",
       "      <th>customer_ID</th>\n",
       "      <th>prediction</th>\n",
       "    </tr>\n",
       "  </thead>\n",
       "  <tbody>\n",
       "    <tr>\n",
       "      <th>0</th>\n",
       "      <td>-9223358381327749917</td>\n",
       "      <td>0.642245</td>\n",
       "    </tr>\n",
       "    <tr>\n",
       "      <th>1</th>\n",
       "      <td>-9223193039457028513</td>\n",
       "      <td>0.000477</td>\n",
       "    </tr>\n",
       "    <tr>\n",
       "      <th>2</th>\n",
       "      <td>-9223189665817919541</td>\n",
       "      <td>0.001296</td>\n",
       "    </tr>\n",
       "    <tr>\n",
       "      <th>3</th>\n",
       "      <td>-9223188534444851899</td>\n",
       "      <td>0.024251</td>\n",
       "    </tr>\n",
       "    <tr>\n",
       "      <th>4</th>\n",
       "      <td>-9223173911659837606</td>\n",
       "      <td>0.853221</td>\n",
       "    </tr>\n",
       "  </tbody>\n",
       "</table>\n",
       "</div>"
      ],
      "text/plain": [
       "           customer_ID  prediction\n",
       "0 -9223358381327749917    0.642245\n",
       "1 -9223193039457028513    0.000477\n",
       "2 -9223189665817919541    0.001296\n",
       "3 -9223188534444851899    0.024251\n",
       "4 -9223173911659837606    0.853221"
      ]
     },
     "execution_count": 6,
     "metadata": {},
     "output_type": "execute_result"
    }
   ],
   "source": [
    "xgboost_V10_OOF.head()"
   ]
  },
  {
   "cell_type": "code",
   "execution_count": 7,
   "id": "962b6505",
   "metadata": {
    "execution": {
     "iopub.execute_input": "2022-08-23T21:17:05.435023Z",
     "iopub.status.busy": "2022-08-23T21:17:05.434599Z",
     "iopub.status.idle": "2022-08-23T21:17:05.612201Z",
     "shell.execute_reply": "2022-08-23T21:17:05.611047Z"
    },
    "papermill": {
     "duration": 0.186435,
     "end_time": "2022-08-23T21:17:05.614582",
     "exception": false,
     "start_time": "2022-08-23T21:17:05.428147",
     "status": "completed"
    },
    "tags": []
   },
   "outputs": [
    {
     "data": {
      "text/plain": [
       "0.79819828300309"
      ]
     },
     "execution_count": 7,
     "metadata": {},
     "output_type": "execute_result"
    }
   ],
   "source": [
    "test_pred = (LGBM_dartV3_OOF[\"prediction\"] * 0.2 + LGBM_dartV4_OOF[\"prediction\"] * 0.325 +\n",
    "            xgboost_V10_OOF[\"prediction\"] * 0.325 + ANN_V2_OOF[\"prediction\"] * 0.15 )\n",
    "amex_metric_numpy(true_y_df[\"target\"],test_pred)\n",
    "\n",
    "#[0.2, 0.325, 0.325, 0.15] 0.79819828300309\n"
   ]
  },
  {
   "cell_type": "code",
   "execution_count": 8,
   "id": "a91da9e3",
   "metadata": {
    "execution": {
     "iopub.execute_input": "2022-08-23T21:17:05.627507Z",
     "iopub.status.busy": "2022-08-23T21:17:05.627100Z",
     "iopub.status.idle": "2022-08-23T21:23:27.296215Z",
     "shell.execute_reply": "2022-08-23T21:23:27.294818Z"
    },
    "papermill": {
     "duration": 381.679825,
     "end_time": "2022-08-23T21:23:27.300071",
     "exception": false,
     "start_time": "2022-08-23T21:17:05.620246",
     "status": "completed"
    },
    "tags": []
   },
   "outputs": [
    {
     "name": "stderr",
     "output_type": "stream",
     "text": [
      "100%|██████████| 40/40 [00:00<00:00, 133.87it/s]\n"
     ]
    },
    {
     "name": "stdout",
     "output_type": "stream",
     "text": [
      "testing weights\n"
     ]
    },
    {
     "name": "stderr",
     "output_type": "stream",
     "text": [
      "100%|██████████| 2757/2757 [06:21<00:00,  7.23it/s]"
     ]
    },
    {
     "name": "stdout",
     "output_type": "stream",
     "text": [
      "Best amex metric: 0.79819828300309\n",
      "Best weights: [0.2, 0.325, 0.325, 0.15]\n"
     ]
    },
    {
     "name": "stderr",
     "output_type": "stream",
     "text": [
      "\n"
     ]
    }
   ],
   "source": [
    "best_amex_metric = 0\n",
    "best_weight = []\n",
    "weight_list = []\n",
    "for a in tqdm(range(0,1000,25)):\n",
    "    for b in range(0,1000,25):\n",
    "        for c in range(0,1000,25):\n",
    "            for d in range(0,300,15):\n",
    "                if (a+b+c+d) == 1000:\n",
    "                    weight_list.append([a/1000,b/1000,c/1000,d/1000])\n",
    "                else:\n",
    "                    pass\n",
    "print(\"testing weights\")\n",
    "for weight in tqdm(weight_list):\n",
    "    test_pred = (LGBM_dartV3_OOF[\"prediction\"] * weight[0] + LGBM_dartV4_OOF[\"prediction\"] * weight[1] +\n",
    "                xgboost_V10_OOF[\"prediction\"] * weight[2] + ANN_V2_OOF[\"prediction\"] * weight[3])\n",
    "    amex_metric = amex_metric_numpy(true_y_df[\"target\"],test_pred)\n",
    "    if amex_metric > best_amex_metric:\n",
    "        best_amex_metric = amex_metric\n",
    "        best_weight = weight\n",
    "print(f\"Best amex metric: {best_amex_metric}\")\n",
    "print(f\"Best weights: {best_weight}\")"
   ]
  },
  {
   "cell_type": "code",
   "execution_count": 9,
   "id": "2a01138e",
   "metadata": {
    "execution": {
     "iopub.execute_input": "2022-08-23T21:23:27.644285Z",
     "iopub.status.busy": "2022-08-23T21:23:27.643843Z",
     "iopub.status.idle": "2022-08-23T21:23:27.648259Z",
     "shell.execute_reply": "2022-08-23T21:23:27.647251Z"
    },
    "papermill": {
     "duration": 0.1802,
     "end_time": "2022-08-23T21:23:27.650333",
     "exception": false,
     "start_time": "2022-08-23T21:23:27.470133",
     "status": "completed"
    },
    "tags": []
   },
   "outputs": [],
   "source": [
    "# weight_list"
   ]
  },
  {
   "cell_type": "code",
   "execution_count": 10,
   "id": "3328165f",
   "metadata": {
    "execution": {
     "iopub.execute_input": "2022-08-23T21:23:28.071887Z",
     "iopub.status.busy": "2022-08-23T21:23:28.071411Z",
     "iopub.status.idle": "2022-08-23T21:23:28.076067Z",
     "shell.execute_reply": "2022-08-23T21:23:28.074685Z"
    },
    "papermill": {
     "duration": 0.25519,
     "end_time": "2022-08-23T21:23:28.078156",
     "exception": false,
     "start_time": "2022-08-23T21:23:27.822966",
     "status": "completed"
    },
    "tags": []
   },
   "outputs": [],
   "source": [
    "# 0.7978153797327203 0.6"
   ]
  },
  {
   "cell_type": "code",
   "execution_count": 11,
   "id": "0c2f4fc7",
   "metadata": {
    "execution": {
     "iopub.execute_input": "2022-08-23T21:23:28.421345Z",
     "iopub.status.busy": "2022-08-23T21:23:28.420597Z",
     "iopub.status.idle": "2022-08-23T21:23:39.227985Z",
     "shell.execute_reply": "2022-08-23T21:23:39.226780Z"
    },
    "papermill": {
     "duration": 10.980979,
     "end_time": "2022-08-23T21:23:39.230902",
     "exception": false,
     "start_time": "2022-08-23T21:23:28.249923",
     "status": "completed"
    },
    "tags": []
   },
   "outputs": [],
   "source": [
    "xgboost_v10_submission = pd.read_csv(\"../input/amex-datafrom04aug/submission_XGBoostV10.csv\")\n",
    "lgbm_dart3_submission = pd.read_csv(\"../input/amex-dataforensenmble/submission_dart_V3.csv\")\n",
    "lgbm_dart4_submission = pd.read_csv(\"../input/amex-dataforensenmble/submission_dart_data32_V4.csv\")\n",
    "tabnet_submission = pd.read_csv(\"../input/amex-dataforensenmble/tabnet_submission_seed84_V1.csv\")\n",
    "ANN_V2_submission = pd.read_csv(\"../input/amex-dataforensenmble/ANN_V2_dataV29_submission.csv\")\n",
    "LGBM_V25_submission = pd.read_csv(\"../input/amex-dataforensenmble/lgbm_v25_submission.csv\")"
   ]
  },
  {
   "cell_type": "code",
   "execution_count": 12,
   "id": "6176dfaa",
   "metadata": {
    "execution": {
     "iopub.execute_input": "2022-08-23T21:23:39.577215Z",
     "iopub.status.busy": "2022-08-23T21:23:39.576776Z",
     "iopub.status.idle": "2022-08-23T21:23:42.916328Z",
     "shell.execute_reply": "2022-08-23T21:23:42.915159Z"
    },
    "papermill": {
     "duration": 3.516326,
     "end_time": "2022-08-23T21:23:42.919335",
     "exception": false,
     "start_time": "2022-08-23T21:23:39.403009",
     "status": "completed"
    },
    "tags": []
   },
   "outputs": [],
   "source": [
    "xgboost_v10_submission = xgboost_v10_submission.sort_values(\"customer_ID\")\n",
    "lgbm_dart3_submission = lgbm_dart3_submission.sort_values(\"customer_ID\")\n",
    "lgbm_dart4_submission = lgbm_dart4_submission.sort_values(\"customer_ID\")\n",
    "tabnet_submission = tabnet_submission.sort_values(\"customer_ID\")\n",
    "ANN_V2_submission = ANN_V2_submission.sort_values(\"customer_ID\")\n",
    "LGBM_V25_submission = LGBM_V25_submission.sort_values(\"customer_ID\")\n"
   ]
  },
  {
   "cell_type": "code",
   "execution_count": 13,
   "id": "fea0eab5",
   "metadata": {
    "execution": {
     "iopub.execute_input": "2022-08-23T21:23:43.265959Z",
     "iopub.status.busy": "2022-08-23T21:23:43.264938Z",
     "iopub.status.idle": "2022-08-23T21:23:43.358909Z",
     "shell.execute_reply": "2022-08-23T21:23:43.357633Z"
    },
    "papermill": {
     "duration": 0.270876,
     "end_time": "2022-08-23T21:23:43.361935",
     "exception": false,
     "start_time": "2022-08-23T21:23:43.091059",
     "status": "completed"
    },
    "tags": []
   },
   "outputs": [],
   "source": [
    "submission_df = pd.DataFrame()\n",
    "submission_df[\"customer_ID\"] = lgbm_dart3_submission[\"customer_ID\"]"
   ]
  },
  {
   "cell_type": "code",
   "execution_count": 14,
   "id": "10f139db",
   "metadata": {
    "execution": {
     "iopub.execute_input": "2022-08-23T21:23:43.705297Z",
     "iopub.status.busy": "2022-08-23T21:23:43.704884Z",
     "iopub.status.idle": "2022-08-23T21:23:43.709610Z",
     "shell.execute_reply": "2022-08-23T21:23:43.708440Z"
    },
    "papermill": {
     "duration": 0.178691,
     "end_time": "2022-08-23T21:23:43.712050",
     "exception": false,
     "start_time": "2022-08-23T21:23:43.533359",
     "status": "completed"
    },
    "tags": []
   },
   "outputs": [],
   "source": [
    "# submission_df"
   ]
  },
  {
   "cell_type": "code",
   "execution_count": 15,
   "id": "c150ec4c",
   "metadata": {
    "execution": {
     "iopub.execute_input": "2022-08-23T21:23:44.056785Z",
     "iopub.status.busy": "2022-08-23T21:23:44.056332Z",
     "iopub.status.idle": "2022-08-23T21:23:44.084654Z",
     "shell.execute_reply": "2022-08-23T21:23:44.083608Z"
    },
    "papermill": {
     "duration": 0.204665,
     "end_time": "2022-08-23T21:23:44.087481",
     "exception": false,
     "start_time": "2022-08-23T21:23:43.882816",
     "status": "completed"
    },
    "tags": []
   },
   "outputs": [],
   "source": [
    "submission_df[\"prediction\"] = (lgbm_dart3_submission[\"prediction\"] * 0.2 + lgbm_dart4_submission[\"prediction\"] * 0.325\n",
    "           + xgboost_v10_submission[\"prediction\"] * 0.325 + ANN_V2_submission[\"prediction\"] * 0.15)\n",
    "# [0.2, 0.325, 0.325, 0.15] "
   ]
  },
  {
   "cell_type": "code",
   "execution_count": 16,
   "id": "bdb672aa",
   "metadata": {
    "execution": {
     "iopub.execute_input": "2022-08-23T21:23:44.431244Z",
     "iopub.status.busy": "2022-08-23T21:23:44.430835Z",
     "iopub.status.idle": "2022-08-23T21:23:44.444980Z",
     "shell.execute_reply": "2022-08-23T21:23:44.443905Z"
    },
    "papermill": {
     "duration": 0.188113,
     "end_time": "2022-08-23T21:23:44.447157",
     "exception": false,
     "start_time": "2022-08-23T21:23:44.259044",
     "status": "completed"
    },
    "tags": []
   },
   "outputs": [
    {
     "data": {
      "text/html": [
       "<div>\n",
       "<style scoped>\n",
       "    .dataframe tbody tr th:only-of-type {\n",
       "        vertical-align: middle;\n",
       "    }\n",
       "\n",
       "    .dataframe tbody tr th {\n",
       "        vertical-align: top;\n",
       "    }\n",
       "\n",
       "    .dataframe thead th {\n",
       "        text-align: right;\n",
       "    }\n",
       "</style>\n",
       "<table border=\"1\" class=\"dataframe\">\n",
       "  <thead>\n",
       "    <tr style=\"text-align: right;\">\n",
       "      <th></th>\n",
       "      <th>customer_ID</th>\n",
       "      <th>prediction</th>\n",
       "    </tr>\n",
       "  </thead>\n",
       "  <tbody>\n",
       "    <tr>\n",
       "      <th>0</th>\n",
       "      <td>00000469ba478561f23a92a868bd366de6f6527a684c9a...</td>\n",
       "      <td>0.023483</td>\n",
       "    </tr>\n",
       "    <tr>\n",
       "      <th>1</th>\n",
       "      <td>00001bf2e77ff879fab36aa4fac689b9ba411dae63ae39...</td>\n",
       "      <td>0.001012</td>\n",
       "    </tr>\n",
       "    <tr>\n",
       "      <th>2</th>\n",
       "      <td>0000210045da4f81e5f122c6bde5c2a617d03eef67f82c...</td>\n",
       "      <td>0.042073</td>\n",
       "    </tr>\n",
       "    <tr>\n",
       "      <th>3</th>\n",
       "      <td>00003b41e58ede33b8daf61ab56d9952f17c9ad1c3976c...</td>\n",
       "      <td>0.214319</td>\n",
       "    </tr>\n",
       "    <tr>\n",
       "      <th>4</th>\n",
       "      <td>00004b22eaeeeb0ec976890c1d9bfc14fd9427e98c4ee9...</td>\n",
       "      <td>0.890982</td>\n",
       "    </tr>\n",
       "    <tr>\n",
       "      <th>...</th>\n",
       "      <td>...</td>\n",
       "      <td>...</td>\n",
       "    </tr>\n",
       "    <tr>\n",
       "      <th>924616</th>\n",
       "      <td>ffff952c631f2c911b8a2a8ca56ea6e656309a83d2f64c...</td>\n",
       "      <td>0.012840</td>\n",
       "    </tr>\n",
       "    <tr>\n",
       "      <th>924617</th>\n",
       "      <td>ffffcf5df59e5e0bba2a5ac4578a34e2b5aa64a1546cd3...</td>\n",
       "      <td>0.858027</td>\n",
       "    </tr>\n",
       "    <tr>\n",
       "      <th>924618</th>\n",
       "      <td>ffffd61f098cc056dbd7d2a21380c4804bbfe60856f475...</td>\n",
       "      <td>0.432325</td>\n",
       "    </tr>\n",
       "    <tr>\n",
       "      <th>924619</th>\n",
       "      <td>ffffddef1fc3643ea179c93245b68dca0f36941cd83977...</td>\n",
       "      <td>0.294664</td>\n",
       "    </tr>\n",
       "    <tr>\n",
       "      <th>924620</th>\n",
       "      <td>fffffa7cf7e453e1acc6a1426475d5cb9400859f82ff61...</td>\n",
       "      <td>0.070638</td>\n",
       "    </tr>\n",
       "  </tbody>\n",
       "</table>\n",
       "<p>924621 rows × 2 columns</p>\n",
       "</div>"
      ],
      "text/plain": [
       "                                              customer_ID  prediction\n",
       "0       00000469ba478561f23a92a868bd366de6f6527a684c9a...    0.023483\n",
       "1       00001bf2e77ff879fab36aa4fac689b9ba411dae63ae39...    0.001012\n",
       "2       0000210045da4f81e5f122c6bde5c2a617d03eef67f82c...    0.042073\n",
       "3       00003b41e58ede33b8daf61ab56d9952f17c9ad1c3976c...    0.214319\n",
       "4       00004b22eaeeeb0ec976890c1d9bfc14fd9427e98c4ee9...    0.890982\n",
       "...                                                   ...         ...\n",
       "924616  ffff952c631f2c911b8a2a8ca56ea6e656309a83d2f64c...    0.012840\n",
       "924617  ffffcf5df59e5e0bba2a5ac4578a34e2b5aa64a1546cd3...    0.858027\n",
       "924618  ffffd61f098cc056dbd7d2a21380c4804bbfe60856f475...    0.432325\n",
       "924619  ffffddef1fc3643ea179c93245b68dca0f36941cd83977...    0.294664\n",
       "924620  fffffa7cf7e453e1acc6a1426475d5cb9400859f82ff61...    0.070638\n",
       "\n",
       "[924621 rows x 2 columns]"
      ]
     },
     "execution_count": 16,
     "metadata": {},
     "output_type": "execute_result"
    }
   ],
   "source": [
    "submission_df"
   ]
  },
  {
   "cell_type": "code",
   "execution_count": 17,
   "id": "8a0aec9a",
   "metadata": {
    "execution": {
     "iopub.execute_input": "2022-08-23T21:23:44.852234Z",
     "iopub.status.busy": "2022-08-23T21:23:44.851777Z",
     "iopub.status.idle": "2022-08-23T21:23:48.041023Z",
     "shell.execute_reply": "2022-08-23T21:23:48.039909Z"
    },
    "papermill": {
     "duration": 3.424987,
     "end_time": "2022-08-23T21:23:48.043698",
     "exception": false,
     "start_time": "2022-08-23T21:23:44.618711",
     "status": "completed"
    },
    "tags": []
   },
   "outputs": [],
   "source": [
    "submission_df.to_csv(\"submission.csv\", index=False)"
   ]
  },
  {
   "cell_type": "code",
   "execution_count": null,
   "id": "de7123f4",
   "metadata": {
    "papermill": {
     "duration": 0.170548,
     "end_time": "2022-08-23T21:23:48.386148",
     "exception": false,
     "start_time": "2022-08-23T21:23:48.215600",
     "status": "completed"
    },
    "tags": []
   },
   "outputs": [],
   "source": []
  }
 ],
 "metadata": {
  "kernelspec": {
   "display_name": "Python 3 (ipykernel)",
   "language": "python",
   "name": "python3"
  },
  "language_info": {
   "codemirror_mode": {
    "name": "ipython",
    "version": 3
   },
   "file_extension": ".py",
   "mimetype": "text/x-python",
   "name": "python",
   "nbconvert_exporter": "python",
   "pygments_lexer": "ipython3",
   "version": "3.9.12"
  },
  "papermill": {
   "default_parameters": {},
   "duration": 436.651998,
   "end_time": "2022-08-23T21:23:49.481305",
   "environment_variables": {},
   "exception": null,
   "input_path": "__notebook__.ipynb",
   "output_path": "__notebook__.ipynb",
   "parameters": {},
   "start_time": "2022-08-23T21:16:32.829307",
   "version": "2.3.4"
  }
 },
 "nbformat": 4,
 "nbformat_minor": 5
}
