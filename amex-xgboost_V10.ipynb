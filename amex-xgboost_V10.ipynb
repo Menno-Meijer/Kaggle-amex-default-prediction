{
 "cells": [
  {
   "cell_type": "code",
   "execution_count": 1,
   "id": "7d9b3605",
   "metadata": {
    "_cell_guid": "dcb2670b-869a-474d-b788-5c77bdbda89a",
    "_uuid": "ec0a3025-123f-4845-8547-11373afbdc3d",
    "execution": {
     "iopub.execute_input": "2022-07-31T20:00:52.140869Z",
     "iopub.status.busy": "2022-07-31T20:00:52.140331Z",
     "iopub.status.idle": "2022-07-31T20:00:55.655392Z",
     "shell.execute_reply": "2022-07-31T20:00:55.654579Z"
    },
    "jupyter": {
     "outputs_hidden": false
    },
    "papermill": {
     "duration": 3.534294,
     "end_time": "2022-07-31T20:00:55.657809",
     "exception": false,
     "start_time": "2022-07-31T20:00:52.123515",
     "status": "completed"
    },
    "tags": []
   },
   "outputs": [],
   "source": [
    "import numpy as np \n",
    "import pandas as pd \n",
    "import gc\n",
    "\n",
    "from sklearn.preprocessing import LabelEncoder\n",
    "from sklearn.model_selection import StratifiedKFold\n",
    "#from sklearn.inspection import permutation_importance\n",
    "\n",
    "import time\n",
    "import xgboost as xgb\n",
    "\n",
    "\n",
    "import joblib"
   ]
  },
  {
   "cell_type": "markdown",
   "id": "fddc36ce",
   "metadata": {
    "papermill": {
     "duration": 0.009454,
     "end_time": "2022-07-31T20:00:55.678612",
     "exception": false,
     "start_time": "2022-07-31T20:00:55.669158",
     "status": "completed"
    },
    "tags": []
   },
   "source": [
    "## Constants:"
   ]
  },
  {
   "cell_type": "code",
   "execution_count": 2,
   "id": "e86d83f8",
   "metadata": {
    "execution": {
     "iopub.execute_input": "2022-07-31T20:00:55.698822Z",
     "iopub.status.busy": "2022-07-31T20:00:55.698444Z",
     "iopub.status.idle": "2022-07-31T20:00:55.702394Z",
     "shell.execute_reply": "2022-07-31T20:00:55.701682Z"
    },
    "papermill": {
     "duration": 0.0161,
     "end_time": "2022-07-31T20:00:55.704129",
     "exception": false,
     "start_time": "2022-07-31T20:00:55.688029",
     "status": "completed"
    },
    "tags": []
   },
   "outputs": [],
   "source": [
    "RANDOM_STATE = 84 \n",
    "\n",
    "NAN_VALUE = -127\n",
    "\n",
    "#k-folds:\n",
    "FOLDS = 5"
   ]
  },
  {
   "cell_type": "code",
   "execution_count": null,
   "id": "feb7fd2d",
   "metadata": {},
   "outputs": [],
   "source": [
    "%%time\n",
    "train = pd.read_parquet(\"data_V23_xgboostV10/train_processed.parquet\")\n",
    "train = train.sort_values(\"customer_ID\").reset_index(drop=True)\n",
    "#train = train.replace(np.nan, -127)\n",
    "print(train.shape)\n",
    "features = [col for col in train.columns if \"target\" not in col and \"customer_ID\" not in col]\n",
    "gc.collect()"
   ]
  },
  {
   "cell_type": "code",
   "execution_count": 5,
   "id": "297fcf5d",
   "metadata": {
    "execution": {
     "iopub.execute_input": "2022-07-31T20:01:25.571674Z",
     "iopub.status.busy": "2022-07-31T20:01:25.571281Z",
     "iopub.status.idle": "2022-07-31T20:01:25.579784Z",
     "shell.execute_reply": "2022-07-31T20:01:25.577153Z"
    },
    "papermill": {
     "duration": 0.02574,
     "end_time": "2022-07-31T20:01:25.582167",
     "exception": false,
     "start_time": "2022-07-31T20:01:25.556427",
     "status": "completed"
    },
    "tags": []
   },
   "outputs": [],
   "source": [
    "# from sklearn.model_selection import RandomizedSearchCV\n",
    "# import xgboost\n",
    "# from xgboost import XGBClassifier\n",
    "# from sklearn.utils.fixes import loguniform\n",
    "\n",
    "# params = {\n",
    "#         \"learning_rate\": [0.01, 0.02],\n",
    "#         \"min_child_weight\": [1, 5, 10],\n",
    "#         \"max_depth\":[3, 4, 5, 6],\n",
    "#         \"max_delta_step\":[0,1,5,10,20],\n",
    "#         \"subsample\":[0.7, 0.8, 0.88],\n",
    "#         \"colsample_bytree\":[0.2, 0.4, 0.6, 0.8],\n",
    "#         \"colsample_bylevel\":[0.2, 0.4, 0.6, 0.8],\n",
    "#         \"reg_lambda\": loguniform(1e-9,100.0),\n",
    "#         \"reg_alpha\": loguniform(1e-9,100.0),\n",
    "#         \"gamma\": loguniform(1e-9,0.5),\n",
    "#         \"scale_pos_weight\": loguniform(1e-9,500.0),\n",
    "#         }\n",
    "# skf = StratifiedKFold(n_splits=FOLDS, shuffle = True, random_state = RANDOM_STATE)\n",
    "# xgboost = XGBClassifier(n_estimators=1000, objective=\"binary:logistic\",\n",
    "#                     tree_method='gpu_hist',\n",
    "#                     \"eval_metric\"=\"binary_logloss\",\n",
    "#                        )\n",
    "# random_search = RandomizedSearchCV(xgboost, param_distributions=params, n_iter=10,\n",
    "#                                    n_jobs=1, cv=skf.split(X,y), verbose=2, random_state=RANDOM_STATE )\n",
    "# random_search.fit(X,y)"
   ]
  },
  {
   "cell_type": "code",
   "execution_count": 6,
   "id": "45561c01",
   "metadata": {
    "execution": {
     "iopub.execute_input": "2022-07-31T20:01:25.637953Z",
     "iopub.status.busy": "2022-07-31T20:01:25.637561Z",
     "iopub.status.idle": "2022-07-31T20:01:25.641623Z",
     "shell.execute_reply": "2022-07-31T20:01:25.640766Z"
    },
    "papermill": {
     "duration": 0.02073,
     "end_time": "2022-07-31T20:01:25.644487",
     "exception": false,
     "start_time": "2022-07-31T20:01:25.623757",
     "status": "completed"
    },
    "tags": []
   },
   "outputs": [],
   "source": [
    "# random_search.best_params_"
   ]
  },
  {
   "cell_type": "markdown",
   "id": "64459104",
   "metadata": {
    "papermill": {
     "duration": 0.010314,
     "end_time": "2022-07-31T20:01:25.694759",
     "exception": false,
     "start_time": "2022-07-31T20:01:25.684445",
     "status": "completed"
    },
    "tags": []
   },
   "source": [
    "### AmEx metric:"
   ]
  },
  {
   "cell_type": "code",
   "execution_count": 7,
   "id": "a5c7b99f",
   "metadata": {
    "execution": {
     "iopub.execute_input": "2022-07-31T20:01:25.716482Z",
     "iopub.status.busy": "2022-07-31T20:01:25.716126Z",
     "iopub.status.idle": "2022-07-31T20:01:25.732015Z",
     "shell.execute_reply": "2022-07-31T20:01:25.731227Z"
    },
    "papermill": {
     "duration": 0.028533,
     "end_time": "2022-07-31T20:01:25.733836",
     "exception": false,
     "start_time": "2022-07-31T20:01:25.705303",
     "status": "completed"
    },
    "tags": []
   },
   "outputs": [],
   "source": [
    "# https://www.kaggle.com/competitions/amex-default-prediction/discussion/328020\n",
    "# https://www.kaggle.com/code/rohanrao/amex-competition-metric-implementations\n",
    "import numpy as np\n",
    "\n",
    "def amex_metric_numpy(y_true: np.array, y_pred: np.array) -> float:\n",
    "\n",
    "    # count of positives and negatives\n",
    "    n_pos = y_true.sum()\n",
    "    n_neg = y_true.shape[0] - n_pos\n",
    "\n",
    "    # sorting by descring prediction values\n",
    "    indices = np.argsort(y_pred)[::-1]\n",
    "    preds, target = y_pred[indices], y_true[indices]\n",
    "\n",
    "    # filter the top 4% by cumulative row weights\n",
    "    weight = 20.0 - target * 19.0\n",
    "    cum_norm_weight = (weight / weight.sum()).cumsum()\n",
    "    four_pct_filter = cum_norm_weight <= 0.04\n",
    "\n",
    "    # default rate captured at 4%\n",
    "    d = target[four_pct_filter].sum() / n_pos\n",
    "\n",
    "    # weighted gini coefficient\n",
    "    lorentz = (target / n_pos).cumsum()\n",
    "    gini = ((lorentz - cum_norm_weight) * weight).sum()\n",
    "\n",
    "    # max weighted gini coefficient\n",
    "    gini_max = 10 * n_neg * (1 - 19 / (n_pos + 20 * n_neg))\n",
    "\n",
    "    # normalized weighted gini coefficient\n",
    "    g = gini / gini_max\n",
    "\n",
    "    return 0.5 * (g + d)\n",
    "\n",
    "\n",
    "def amex_metric(y_true, y_pred):\n",
    "#     @MARTIN KOVACEVIC BUVINIC  ; https://www.kaggle.com/code/ragnar123/amex-lgbm-dart-cv-0-7977\n",
    "    labels = np.transpose(np.array([y_true, y_pred]))\n",
    "    labels = labels[labels[:, 1].argsort()[::-1]]\n",
    "    weights = np.where(labels[:,0]==0, 20, 1)\n",
    "    cut_vals = labels[np.cumsum(weights) <= int(0.04 * np.sum(weights))]\n",
    "    top_four = np.sum(cut_vals[:,0]) / np.sum(labels[:,0])\n",
    "    gini = [0,0]\n",
    "    for i in [1,0]:\n",
    "        labels = np.transpose(np.array([y_true, y_pred]))\n",
    "        labels = labels[labels[:, i].argsort()[::-1]]\n",
    "        weight = np.where(labels[:,0]==0, 20, 1)\n",
    "        weight_random = np.cumsum(weight / np.sum(weight))\n",
    "        total_pos = np.sum(labels[:, 0] *  weight)\n",
    "        cum_pos_found = np.cumsum(labels[:, 0] * weight)\n",
    "        lorentz = cum_pos_found / total_pos\n",
    "        gini[i] = np.sum((lorentz - weight_random) * weight)\n",
    "    return 0.5 * (gini[1]/gini[0] + top_four)\n"
   ]
  },
  {
   "cell_type": "code",
   "execution_count": 8,
   "id": "950cd847",
   "metadata": {
    "execution": {
     "iopub.execute_input": "2022-07-31T20:01:25.755412Z",
     "iopub.status.busy": "2022-07-31T20:01:25.754795Z",
     "iopub.status.idle": "2022-07-31T20:01:25.764659Z",
     "shell.execute_reply": "2022-07-31T20:01:25.763922Z"
    },
    "papermill": {
     "duration": 0.022854,
     "end_time": "2022-07-31T20:01:25.766730",
     "exception": false,
     "start_time": "2022-07-31T20:01:25.743876",
     "status": "completed"
    },
    "tags": []
   },
   "outputs": [],
   "source": [
    "# Set model parameters:\n",
    "XGB_parameters = {\n",
    "            \"objective\":\"binary:logistic\",\n",
    "            \"max_depth\": 4,\n",
    "            \"alpha\": 0.1,\n",
    "            \"gamma\":1.5,\n",
    "            \"lambda\":70,\n",
    "            \"learning_rate\": 0.02, #(maybe to 0.01)\n",
    "            \"subsample\":0.8,\n",
    "           # \"scale_pos_weight\": 1,\n",
    "            #\"min_child_weight\": 1,\n",
    "            \"colsample_bytree\": 0.2, # for dart:0.20, or 0.6 #\"feature_fraction\";is the subsample ratio of columns when constructing each tree. Subsampling occurs once for every tree constructed.\n",
    "#            \"eval_metric\":\"auc\", #binary_logloss\n",
    "#              #dart param:\n",
    "#             \"booster\": \"dart\",\n",
    "#             \"max_leaves\": 100,\n",
    "#             \"min_child_weight\": 40,\n",
    "            \"tree_method\" : 'gpu_hist',  \n",
    "            \"gpu_id\" :0,\n",
    "            \"predictor\" : \"gpu_predictor\",\n",
    "            \"n_jobs\" : -1,\n",
    "        }              \n"
   ]
  },
  {
   "cell_type": "code",
   "execution_count": 9,
   "id": "70617885",
   "metadata": {
    "execution": {
     "iopub.execute_input": "2022-07-31T20:01:25.788341Z",
     "iopub.status.busy": "2022-07-31T20:01:25.787751Z",
     "iopub.status.idle": "2022-07-31T20:01:25.792892Z",
     "shell.execute_reply": "2022-07-31T20:01:25.792207Z"
    },
    "papermill": {
     "duration": 0.01818,
     "end_time": "2022-07-31T20:01:25.794771",
     "exception": false,
     "start_time": "2022-07-31T20:01:25.776591",
     "status": "completed"
    },
    "tags": []
   },
   "outputs": [],
   "source": [
    "# print('XGB Version',xgb.__version__)"
   ]
  },
  {
   "cell_type": "code",
   "execution_count": 10,
   "id": "86f5cc6e",
   "metadata": {
    "execution": {
     "iopub.execute_input": "2022-07-31T20:01:25.815536Z",
     "iopub.status.busy": "2022-07-31T20:01:25.815247Z",
     "iopub.status.idle": "2022-07-31T20:01:25.951932Z",
     "shell.execute_reply": "2022-07-31T20:01:25.951040Z"
    },
    "papermill": {
     "duration": 0.149315,
     "end_time": "2022-07-31T20:01:25.954147",
     "exception": false,
     "start_time": "2022-07-31T20:01:25.804832",
     "status": "completed"
    },
    "tags": []
   },
   "outputs": [
    {
     "data": {
      "text/plain": [
       "0"
      ]
     },
     "execution_count": 10,
     "metadata": {},
     "output_type": "execute_result"
    }
   ],
   "source": [
    "gc.collect()"
   ]
  },
  {
   "cell_type": "code",
   "execution_count": 11,
   "id": "04bc3888",
   "metadata": {
    "execution": {
     "iopub.execute_input": "2022-07-31T20:01:25.979725Z",
     "iopub.status.busy": "2022-07-31T20:01:25.979345Z",
     "iopub.status.idle": "2022-07-31T20:01:25.985043Z",
     "shell.execute_reply": "2022-07-31T20:01:25.984020Z"
    },
    "papermill": {
     "duration": 0.021561,
     "end_time": "2022-07-31T20:01:25.987564",
     "exception": false,
     "start_time": "2022-07-31T20:01:25.966003",
     "status": "completed"
    },
    "tags": []
   },
   "outputs": [],
   "source": [
    "original_cat_col = ['B_30', 'B_38', 'D_114', 'D_116', 'D_117', 'D_120', 'D_126', 'D_63', 'D_64', 'D_66', 'D_68']\n",
    "cat_col = [col + \"_last\" for col in original_cat_col]\n",
    "cat_col += [col + \"_2ndlast\" for col in original_cat_col]"
   ]
  },
  {
   "cell_type": "code",
   "execution_count": 12,
   "id": "9e2fa4ca",
   "metadata": {
    "execution": {
     "iopub.execute_input": "2022-07-31T20:01:26.012423Z",
     "iopub.status.busy": "2022-07-31T20:01:26.012074Z",
     "iopub.status.idle": "2022-07-31T20:01:44.154567Z",
     "shell.execute_reply": "2022-07-31T20:01:44.153661Z"
    },
    "papermill": {
     "duration": 18.157429,
     "end_time": "2022-07-31T20:01:44.156789",
     "exception": false,
     "start_time": "2022-07-31T20:01:25.999360",
     "status": "completed"
    },
    "tags": []
   },
   "outputs": [],
   "source": [
    "for col in train[features]:\n",
    "        train[col] = train[col].astype(np.float32)"
   ]
  },
  {
   "cell_type": "code",
   "execution_count": 16,
   "id": "3908d658",
   "metadata": {
    "execution": {
     "iopub.execute_input": "2022-07-31T20:01:44.178908Z",
     "iopub.status.busy": "2022-07-31T20:01:44.178572Z",
     "iopub.status.idle": "2022-07-31T21:57:10.490444Z",
     "shell.execute_reply": "2022-07-31T21:57:10.489389Z"
    },
    "papermill": {
     "duration": 6926.325345,
     "end_time": "2022-07-31T21:57:10.492481",
     "exception": false,
     "start_time": "2022-07-31T20:01:44.167136",
     "status": "completed"
    },
    "tags": []
   },
   "outputs": [
    {
     "name": "stdout",
     "output_type": "stream",
     "text": [
      "XGBoost fold #: 0\n",
      "0, acc: 0.7946673169778943\n",
      "model: 0 saved\n",
      "XGBoost fold #: 1\n",
      "1, acc: 0.794828952267217\n",
      "model: 1 saved\n",
      "XGBoost fold #: 2\n",
      "2, acc: 0.7972735649909626\n",
      "model: 2 saved\n",
      "XGBoost fold #: 3\n",
      "3, acc: 0.7946604227252587\n",
      "model: 3 saved\n",
      "XGBoost fold #: 4\n",
      "4, acc: 0.7962572051743686\n",
      "model: 4 saved\n",
      "mean: 0.7955374924271401\n",
      "Acc over full dataset: 0.795464785135856\n"
     ]
    },
    {
     "data": {
      "text/plain": [
       "0"
      ]
     },
     "execution_count": 16,
     "metadata": {},
     "output_type": "execute_result"
    }
   ],
   "source": [
    "#%%time\n",
    "skf = StratifiedKFold(n_splits=FOLDS, shuffle=True, random_state=RANDOM_STATE)\n",
    "acc_list = []\n",
    "y_val_full = []\n",
    "y_pred_full = []\n",
    "customer_id_list = []\n",
    "\n",
    "\n",
    "for fold, (train_index, val_index) in enumerate(skf.split(train[features], train[\"target\"])):\n",
    " \n",
    "#     x_train_fold, x_val_fold = X.iloc[train_index], X.iloc[val_index]\n",
    "#     y_train_fold, y_val_fold = y.iloc[train_index], y.iloc[val_index]\n",
    "    \n",
    "    x_train_fold, x_val_fold = train[features].iloc[train_index], train[features].iloc[val_index]\n",
    "    y_train_fold, y_val_fold = train[\"target\"].iloc[train_index], train[\"target\"].iloc[val_index]\n",
    "    \n",
    "    #### XGBoost\n",
    "    print(f\"XGBoost fold #: {fold}\")\n",
    "        \n",
    "    train_matrix = xgb.DMatrix(data=x_train_fold, label=y_train_fold)\n",
    "    val_matrix = xgb.DMatrix(data=x_val_fold, label=y_val_fold)\n",
    "    \n",
    "    del x_train_fold,y_train_fold, x_val_fold\n",
    "    gc.collect()\n",
    "    xgb_clf = xgb.train(XGB_parameters, \n",
    "                dtrain=train_matrix,\n",
    "                evals=[(train_matrix,\"train\"),(val_matrix,\"valid\")],\n",
    "                num_boost_round=15000,\n",
    "                early_stopping_rounds=1500,\n",
    "                verbose_eval=1000) \n",
    "    \n",
    "    \n",
    "    ### load model #####\n",
    "#     xgb_clf = xgb.Booster()\n",
    "#     xgb_clf.load_model(f\"xgboost_v10/xgb_fold_{fold}.xgb\")\n",
    "    ####################\n",
    "\n",
    "    y_pred = xgb_clf.predict(val_matrix)\n",
    "#     acc = amex_metric_numpy(y_val_fold.to_pandas().values, y_pred) # for GPU\n",
    "    acc = amex_metric_numpy(y_val_fold.values, y_pred) # for CPU\n",
    "    \n",
    "    \n",
    "    acc_list.append(acc)\n",
    "#     y_val_full.append(y_val_fold.to_pandas().to_numpy().ravel())# for GPU\n",
    "    y_val_full.append(y_val_fold.to_numpy().ravel())# for CPU\n",
    "    y_pred_full.append(y_pred)\n",
    "    customer_id_list.append(train[\"customer_ID\"].iloc[val_index])\n",
    "\n",
    "    \n",
    "    print(f\"{fold}, acc: {acc}\")\n",
    "    xgb_clf.save_model(f\"xgb_fold_{fold}.xgb\")\n",
    "    print(f\"model: {fold} saved\")\n",
    "    \n",
    "#     if fold == 0:\n",
    "#         print(\"starting permutation importance\")\n",
    "#         result = permutation_importance(\n",
    "#         xgb_clf, x_test_fold, y_test_fold, n_repeats=3, random_state=42, n_jobs=-1\n",
    "#         )\n",
    "#         print(\"finished, sorting:\")\n",
    "#         sorted_importances_idx = result.importances_mean.argsort()\n",
    "#         print(\"to pandas\")\n",
    "# #         importances = pd.DataFrame(\n",
    "# #             result.importances[sorted_importances_idx].T,\n",
    "# #             columns=x_test_fold.columns[sorted_importances_idx],\n",
    "# #         )\n",
    "#         importances = pd.DataFrame({\"column\":x_test_fold.columns[sorted_importances_idx],\n",
    "#                                    \"importance\":result.importances_mean[sorted_importances_idx].T})\n",
    "#         print(\"saving:\")\n",
    "#         importances.to_excel(\"permutationimportance_repeats3_V1.xlsx\", index=False)\n",
    "#         print(importances.head())\n",
    "\n",
    "\n",
    "    \n",
    "    \n",
    "    del xgb_clf, train_matrix, val_matrix, acc, y_pred, y_val_fold\n",
    "    gc.collect()\n",
    "    \n",
    "\n",
    "    \n",
    "# xgboost:\n",
    "print(f\"mean: {np.mean(acc_list)}\")\n",
    "\n",
    "# xgboost\n",
    "y_val_full_array = np.concatenate(y_val_full, axis=None)\n",
    "y_pred_full_array = np.concatenate(y_pred_full, axis=None)\n",
    "acc_full = amex_metric_numpy(y_val_full_array,y_pred_full_array)\n",
    "print(f\"Acc over full dataset: {acc_full}\")\n",
    "\n",
    "customer_id_list_conc = np.concatenate(customer_id_list, axis=None)\n",
    "df_OOF = pd.DataFrame()\n",
    "df_OOF[\"customer_ID\"] = pd.Series(customer_id_list_conc)\n",
    "df_OOF[\"prediction\"] = pd.Series(y_pred_full_array)\n",
    "del y_val_full_array, y_pred_full_array,acc_full\n",
    "gc.collect()\n",
    "\n",
    "\n"
   ]
  },
  {
   "cell_type": "code",
   "execution_count": 17,
   "id": "c6f3a579",
   "metadata": {},
   "outputs": [
    {
     "data": {
      "text/html": [
       "<div>\n",
       "<style scoped>\n",
       "    .dataframe tbody tr th:only-of-type {\n",
       "        vertical-align: middle;\n",
       "    }\n",
       "\n",
       "    .dataframe tbody tr th {\n",
       "        vertical-align: top;\n",
       "    }\n",
       "\n",
       "    .dataframe thead th {\n",
       "        text-align: right;\n",
       "    }\n",
       "</style>\n",
       "<table border=\"1\" class=\"dataframe\">\n",
       "  <thead>\n",
       "    <tr style=\"text-align: right;\">\n",
       "      <th></th>\n",
       "      <th>customer_ID</th>\n",
       "      <th>prediction</th>\n",
       "    </tr>\n",
       "  </thead>\n",
       "  <tbody>\n",
       "    <tr>\n",
       "      <th>0</th>\n",
       "      <td>-9223189665817919541</td>\n",
       "      <td>0.001296</td>\n",
       "    </tr>\n",
       "    <tr>\n",
       "      <th>1</th>\n",
       "      <td>-9223188534444851899</td>\n",
       "      <td>0.024251</td>\n",
       "    </tr>\n",
       "    <tr>\n",
       "      <th>2</th>\n",
       "      <td>-9222977106653703082</td>\n",
       "      <td>0.689006</td>\n",
       "    </tr>\n",
       "    <tr>\n",
       "      <th>3</th>\n",
       "      <td>-9222795947410574988</td>\n",
       "      <td>0.987188</td>\n",
       "    </tr>\n",
       "    <tr>\n",
       "      <th>4</th>\n",
       "      <td>-9222571608979063563</td>\n",
       "      <td>0.749123</td>\n",
       "    </tr>\n",
       "    <tr>\n",
       "      <th>...</th>\n",
       "      <td>...</td>\n",
       "      <td>...</td>\n",
       "    </tr>\n",
       "    <tr>\n",
       "      <th>458908</th>\n",
       "      <td>9222830459409282183</td>\n",
       "      <td>0.010114</td>\n",
       "    </tr>\n",
       "    <tr>\n",
       "      <th>458909</th>\n",
       "      <td>9222865474092465587</td>\n",
       "      <td>0.000637</td>\n",
       "    </tr>\n",
       "    <tr>\n",
       "      <th>458910</th>\n",
       "      <td>9222877733476602020</td>\n",
       "      <td>0.000089</td>\n",
       "    </tr>\n",
       "    <tr>\n",
       "      <th>458911</th>\n",
       "      <td>9223073742590486866</td>\n",
       "      <td>0.000940</td>\n",
       "    </tr>\n",
       "    <tr>\n",
       "      <th>458912</th>\n",
       "      <td>9223345210145379887</td>\n",
       "      <td>0.004745</td>\n",
       "    </tr>\n",
       "  </tbody>\n",
       "</table>\n",
       "<p>458913 rows × 2 columns</p>\n",
       "</div>"
      ],
      "text/plain": [
       "                customer_ID  prediction\n",
       "0      -9223189665817919541    0.001296\n",
       "1      -9223188534444851899    0.024251\n",
       "2      -9222977106653703082    0.689006\n",
       "3      -9222795947410574988    0.987188\n",
       "4      -9222571608979063563    0.749123\n",
       "...                     ...         ...\n",
       "458908  9222830459409282183    0.010114\n",
       "458909  9222865474092465587    0.000637\n",
       "458910  9222877733476602020    0.000089\n",
       "458911  9223073742590486866    0.000940\n",
       "458912  9223345210145379887    0.004745\n",
       "\n",
       "[458913 rows x 2 columns]"
      ]
     },
     "execution_count": 17,
     "metadata": {},
     "output_type": "execute_result"
    }
   ],
   "source": [
    "df_OOF"
   ]
  },
  {
   "cell_type": "code",
   "execution_count": 18,
   "id": "66563d7f",
   "metadata": {},
   "outputs": [],
   "source": [
    "df_OOF.to_csv(f\"xgboost_V10_data23_seed{RANDOM_STATE}_OOF.csv\")"
   ]
  },
  {
   "cell_type": "code",
   "execution_count": null,
   "id": "f763517e",
   "metadata": {
    "execution": {
     "iopub.execute_input": "2022-07-31T21:57:10.558290Z",
     "iopub.status.busy": "2022-07-31T21:57:10.557983Z",
     "iopub.status.idle": "2022-07-31T21:57:10.708794Z",
     "shell.execute_reply": "2022-07-31T21:57:10.707961Z"
    },
    "papermill": {
     "duration": 0.167838,
     "end_time": "2022-07-31T21:57:10.710600",
     "exception": false,
     "start_time": "2022-07-31T21:57:10.542762",
     "status": "completed"
    },
    "tags": []
   },
   "outputs": [],
   "source": [
    "del train\n",
    "gc.collect()"
   ]
  },
  {
   "cell_type": "markdown",
   "id": "6c606775",
   "metadata": {
    "papermill": {
     "duration": 0.014634,
     "end_time": "2022-07-31T21:57:10.740049",
     "exception": false,
     "start_time": "2022-07-31T21:57:10.725415",
     "status": "completed"
    },
    "tags": []
   },
   "source": [
    "# test:"
   ]
  },
  {
   "cell_type": "code",
   "execution_count": null,
   "id": "3d904a6c",
   "metadata": {
    "execution": {
     "iopub.execute_input": "2022-07-31T21:57:10.770374Z",
     "iopub.status.busy": "2022-07-31T21:57:10.770038Z",
     "iopub.status.idle": "2022-07-31T21:57:10.922175Z",
     "shell.execute_reply": "2022-07-31T21:57:10.921239Z"
    },
    "papermill": {
     "duration": 0.16942,
     "end_time": "2022-07-31T21:57:10.924010",
     "exception": false,
     "start_time": "2022-07-31T21:57:10.754590",
     "status": "completed"
    },
    "tags": []
   },
   "outputs": [],
   "source": [
    "# clear GPU memory\n",
    "# torch.cuda.empty_cache()\n",
    "# cuda.select_device(0)\n",
    "# cuda.close()\n",
    "# cuda.select_device(0)\n",
    "gc.collect()"
   ]
  },
  {
   "cell_type": "code",
   "execution_count": null,
   "id": "7c91bd53",
   "metadata": {
    "execution": {
     "iopub.execute_input": "2022-07-31T21:57:11.195608Z",
     "iopub.status.busy": "2022-07-31T21:57:11.195329Z",
     "iopub.status.idle": "2022-07-31T22:14:05.725516Z",
     "shell.execute_reply": "2022-07-31T22:14:05.724742Z"
    },
    "papermill": {
     "duration": 1014.567477,
     "end_time": "2022-07-31T22:14:05.747182",
     "exception": false,
     "start_time": "2022-07-31T21:57:11.179705",
     "status": "completed"
    },
    "tags": []
   },
   "outputs": [],
   "source": [
    "# %%time \n",
    "chunks = 8\n",
    "test_rows = 924621\n",
    "\n",
    "test_submission = pd.DataFrame()\n",
    "\n",
    "for chunk in range(chunks):\n",
    "\n",
    "    print(f\"chunk:{chunk+1}\")\n",
    "    test = pd.read_parquet(f\"../input/amex-data-preparation/test_processed_chunk{chunk}.parquet\")\n",
    "#     test = test.sort_values([\"customer_ID\",\"S_2\"])\n",
    "#     test = test.reset_index(drop=True)\n",
    "    #test = test.replace(np.nan, -127)\n",
    "    print(f\"Loaded chunk#{chunk+1}\")\n",
    "    gc.collect()\n",
    "    test_submission_chunk = pd.DataFrame()\n",
    "    test_submission_chunk[\"customer_ID\"] = test[\"customer_ID\"]\n",
    "    test = test.drop(columns=[\"customer_ID\"])\n",
    "    for col in test:\n",
    "        test[col] = test[col].astype(np.float32)\n",
    "    # XGBoost:\n",
    "    #test = np.array(test)\n",
    "    test = xgb.DMatrix(data=test)#, missing=-127)\n",
    "    predictions = []\n",
    "    print(\"Starting predictions:\")\n",
    "    for fold in range(FOLDS):\n",
    "        xgb_clf = xgb.Booster()\n",
    "        xgb_clf.load_model(f\"./xgb_fold_{fold}.xgb\")\n",
    "    \n",
    "        test_pred = xgb_clf.predict(test)\n",
    "        predictions.append(test_pred)\n",
    "        \n",
    "        print(f\"prediction added for fold:{fold}\")\n",
    "        del xgb_clf, test_pred\n",
    "        gc.collect()\n",
    "    mean_predictions = np.mean(np.column_stack(predictions), axis=1)\n",
    "    test_submission_chunk[\"prediction\"] = mean_predictions\n",
    "    test_submission = test_submission.append(test_submission_chunk)\n",
    "    del test_submission_chunk\n",
    "    gc.collect()\n",
    "    \n",
    "    \n",
    "print(\"Finished predicting!\")"
   ]
  },
  {
   "cell_type": "code",
   "execution_count": null,
   "id": "4815aa96",
   "metadata": {
    "execution": {
     "iopub.execute_input": "2022-07-31T22:14:05.787391Z",
     "iopub.status.busy": "2022-07-31T22:14:05.787035Z",
     "iopub.status.idle": "2022-07-31T22:14:05.790917Z",
     "shell.execute_reply": "2022-07-31T22:14:05.790132Z"
    },
    "papermill": {
     "duration": 0.026321,
     "end_time": "2022-07-31T22:14:05.792724",
     "exception": false,
     "start_time": "2022-07-31T22:14:05.766403",
     "status": "completed"
    },
    "tags": []
   },
   "outputs": [],
   "source": [
    "# np.std(np.column_stack(predictions_lgb), axis=1)"
   ]
  },
  {
   "cell_type": "code",
   "execution_count": null,
   "id": "7dc646f8",
   "metadata": {
    "execution": {
     "iopub.execute_input": "2022-07-31T22:14:05.833342Z",
     "iopub.status.busy": "2022-07-31T22:14:05.832759Z",
     "iopub.status.idle": "2022-07-31T22:14:05.840350Z",
     "shell.execute_reply": "2022-07-31T22:14:05.839630Z"
    },
    "papermill": {
     "duration": 0.029993,
     "end_time": "2022-07-31T22:14:05.842335",
     "exception": false,
     "start_time": "2022-07-31T22:14:05.812342",
     "status": "completed"
    },
    "tags": []
   },
   "outputs": [],
   "source": [
    "len(test_submission)"
   ]
  },
  {
   "cell_type": "code",
   "execution_count": null,
   "id": "3e779629",
   "metadata": {
    "execution": {
     "iopub.execute_input": "2022-07-31T22:14:05.882087Z",
     "iopub.status.busy": "2022-07-31T22:14:05.881782Z",
     "iopub.status.idle": "2022-07-31T22:14:05.895518Z",
     "shell.execute_reply": "2022-07-31T22:14:05.894627Z"
    },
    "papermill": {
     "duration": 0.035938,
     "end_time": "2022-07-31T22:14:05.897538",
     "exception": false,
     "start_time": "2022-07-31T22:14:05.861600",
     "status": "completed"
    },
    "tags": []
   },
   "outputs": [],
   "source": [
    "test_submission.head(5)"
   ]
  },
  {
   "cell_type": "code",
   "execution_count": null,
   "id": "e3fd7c3a",
   "metadata": {
    "execution": {
     "iopub.execute_input": "2022-07-31T22:14:05.939059Z",
     "iopub.status.busy": "2022-07-31T22:14:05.938299Z",
     "iopub.status.idle": "2022-07-31T22:14:05.941968Z",
     "shell.execute_reply": "2022-07-31T22:14:05.941200Z"
    },
    "papermill": {
     "duration": 0.026613,
     "end_time": "2022-07-31T22:14:05.943696",
     "exception": false,
     "start_time": "2022-07-31T22:14:05.917083",
     "status": "completed"
    },
    "tags": []
   },
   "outputs": [],
   "source": [
    "# test_submission.describe()"
   ]
  },
  {
   "cell_type": "code",
   "execution_count": null,
   "id": "cda88067",
   "metadata": {
    "execution": {
     "iopub.execute_input": "2022-07-31T22:14:05.984836Z",
     "iopub.status.busy": "2022-07-31T22:14:05.984085Z",
     "iopub.status.idle": "2022-07-31T22:14:05.987961Z",
     "shell.execute_reply": "2022-07-31T22:14:05.987218Z"
    },
    "papermill": {
     "duration": 0.026524,
     "end_time": "2022-07-31T22:14:05.989803",
     "exception": false,
     "start_time": "2022-07-31T22:14:05.963279",
     "status": "completed"
    },
    "tags": []
   },
   "outputs": [],
   "source": [
    "# test_submission.sort_values(\"prediction\", ascending=False)\n",
    "# test_submission[test_submission[\"prediction\"] < 0.1]"
   ]
  },
  {
   "cell_type": "code",
   "execution_count": null,
   "id": "90754887",
   "metadata": {
    "execution": {
     "iopub.execute_input": "2022-07-31T22:14:06.070052Z",
     "iopub.status.busy": "2022-07-31T22:14:06.069262Z",
     "iopub.status.idle": "2022-07-31T22:14:10.243535Z",
     "shell.execute_reply": "2022-07-31T22:14:10.242623Z"
    },
    "papermill": {
     "duration": 4.197344,
     "end_time": "2022-07-31T22:14:10.246195",
     "exception": false,
     "start_time": "2022-07-31T22:14:06.048851",
     "status": "completed"
    },
    "tags": []
   },
   "outputs": [],
   "source": [
    "test_submission.to_csv(\"submission.csv\", index=False)"
   ]
  },
  {
   "cell_type": "code",
   "execution_count": null,
   "id": "45b012f2",
   "metadata": {
    "papermill": {
     "duration": 0.019484,
     "end_time": "2022-07-31T22:14:10.287085",
     "exception": false,
     "start_time": "2022-07-31T22:14:10.267601",
     "status": "completed"
    },
    "tags": []
   },
   "outputs": [],
   "source": []
  }
 ],
 "metadata": {
  "kernelspec": {
   "display_name": "Python 3 (ipykernel)",
   "language": "python",
   "name": "python3"
  },
  "language_info": {
   "codemirror_mode": {
    "name": "ipython",
    "version": 3
   },
   "file_extension": ".py",
   "mimetype": "text/x-python",
   "name": "python",
   "nbconvert_exporter": "python",
   "pygments_lexer": "ipython3",
   "version": "3.9.12"
  },
  "papermill": {
   "default_parameters": {},
   "duration": 8009.319094,
   "end_time": "2022-07-31T22:14:11.946409",
   "environment_variables": {},
   "exception": null,
   "input_path": "__notebook__.ipynb",
   "output_path": "__notebook__.ipynb",
   "parameters": {},
   "start_time": "2022-07-31T20:00:42.627315",
   "version": "2.3.4"
  }
 },
 "nbformat": 4,
 "nbformat_minor": 5
}
